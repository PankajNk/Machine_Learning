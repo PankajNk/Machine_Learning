{
 "cells": [
  {
   "cell_type": "markdown",
   "metadata": {},
   "source": [
    "• Consider a case of 50 student, out of which 35Passed (P) and 15 Failed\n",
    "(F) in the Certification Exam. Write a program to compute Entropy for\n",
    "the given information.\n",
    "\n",
    "• If we have the information that some of the candidates have undergone\n",
    "training and some didn’t. Based on it split the dataset, let say 20 people\n",
    "undergone the training and 30 didn’t. Out of this 20 trained candidate\n",
    "18P and 2F, while in case of 30 untrained 17P and 13F. Write a\n",
    "program to calculate the information gain after split of data."
   ]
  },
  {
   "cell_type": "code",
   "execution_count": null,
   "metadata": {},
   "outputs": [],
   "source": [
    "#entropy is randoness\n",
    "#total 50 student \n",
    "#     35 passed  probabilty 35/50 \n",
    "#     15 failed  probabilty 15/50 \n",
    "#find entropy\n",
    "\n",
    "#event are 2 t/f\n",
    "# -(Pt .log Pt + Pf .log Pf)"
   ]
  },
  {
   "cell_type": "code",
   "execution_count": 1,
   "metadata": {},
   "outputs": [
    {
     "data": {
      "text/plain": [
       "0.7"
      ]
     },
     "execution_count": 1,
     "metadata": {},
     "output_type": "execute_result"
    }
   ],
   "source": [
    " 35/50"
   ]
  },
  {
   "cell_type": "code",
   "execution_count": 2,
   "metadata": {},
   "outputs": [
    {
     "data": {
      "text/plain": [
       "0.3"
      ]
     },
     "execution_count": 2,
     "metadata": {},
     "output_type": "execute_result"
    }
   ],
   "source": [
    "15/50"
   ]
  },
  {
   "cell_type": "code",
   "execution_count": 9,
   "metadata": {},
   "outputs": [
    {
     "data": {
      "text/plain": [
       "0.8812908992306927"
      ]
     },
     "execution_count": 9,
     "metadata": {},
     "output_type": "execute_result"
    }
   ],
   "source": [
    "import numpy as np \n",
    "-( (0.7 * np.log2(0.7)) + (0.3 * np.log2(0.3)) )"
   ]
  },
  {
   "cell_type": "markdown",
   "metadata": {},
   "source": [
    " So Entropy  is 0.8812908992306927"
   ]
  },
  {
   "cell_type": "code",
   "execution_count": null,
   "metadata": {},
   "outputs": [],
   "source": [
    "#IG is difference of entropy after spilting                    50\n",
    "# total 50                                                   |    |\n",
    "#20 people   Y ---> 18 P                                   20      30\n",
    "#             -----> 2 F                                 |  |    |    |\n",
    "#                                                        18  2   17   13\n",
    "#30 didn’t   N ---->17 P\n",
    "#             -----> 13 F\n",
    "\n",
    "# find the entropy the dataset\n",
    "#event attended and not 2 event\n",
    "# -(Pa.log2(Pa) + Pn.log2(Pn))\n",
    "#\n",
    "# attened 20/50 ---->0.4\n",
    "# not attened 30/50-->0.6"
   ]
  },
  {
   "cell_type": "code",
   "execution_count": 10,
   "metadata": {},
   "outputs": [
    {
     "data": {
      "text/plain": [
       "0.4"
      ]
     },
     "execution_count": 10,
     "metadata": {},
     "output_type": "execute_result"
    }
   ],
   "source": [
    "20/50 "
   ]
  },
  {
   "cell_type": "code",
   "execution_count": 11,
   "metadata": {},
   "outputs": [
    {
     "data": {
      "text/plain": [
       "0.6"
      ]
     },
     "execution_count": 11,
     "metadata": {},
     "output_type": "execute_result"
    }
   ],
   "source": [
    "30/50"
   ]
  },
  {
   "cell_type": "code",
   "execution_count": 15,
   "metadata": {},
   "outputs": [
    {
     "data": {
      "text/plain": [
       "0.9709505944546686"
      ]
     },
     "execution_count": 15,
     "metadata": {},
     "output_type": "execute_result"
    }
   ],
   "source": [
    "T = -( (0.4*np.log2(0.4) + (0.6*np.log2(0.6))))\n",
    "T"
   ]
  },
  {
   "cell_type": "markdown",
   "metadata": {},
   "source": [
    "Total Entropy is 0.9709505944546686"
   ]
  },
  {
   "cell_type": "code",
   "execution_count": 28,
   "metadata": {},
   "outputs": [
    {
     "data": {
      "text/plain": [
       "0.4689955935892812"
      ]
     },
     "execution_count": 28,
     "metadata": {},
     "output_type": "execute_result"
    }
   ],
   "source": [
    "#20 people   Y ---> 18 P --->0.9\n",
    "#             -----> 2 F ---->0.1\n",
    "\n",
    "#find entropy Attended\n",
    "\n",
    "aa = -( (0.9 * np.log2(0.9)) + (0.1 * np.log2(0.1)))\n",
    "aa"
   ]
  },
  {
   "cell_type": "code",
   "execution_count": 30,
   "metadata": {},
   "outputs": [
    {
     "data": {
      "text/plain": [
       "0.1875982374357125"
      ]
     },
     "execution_count": 30,
     "metadata": {},
     "output_type": "execute_result"
    }
   ],
   "source": [
    "Att = 0.4689955935892812 * 0.4 #(weight)\n",
    "Att"
   ]
  },
  {
   "cell_type": "code",
   "execution_count": 33,
   "metadata": {},
   "outputs": [
    {
     "data": {
      "text/plain": [
       "0.9920050270028169"
      ]
     },
     "execution_count": 33,
     "metadata": {},
     "output_type": "execute_result"
    }
   ],
   "source": [
    "#30 didn’t   N ---->17 P --->0.56\n",
    "#             -----> 13 F --->0.43\n",
    "\n",
    "-( (0.56 * np.log2(0.56)) + (0.43 * np.log2(0.43)))"
   ]
  },
  {
   "cell_type": "code",
   "execution_count": 35,
   "metadata": {},
   "outputs": [
    {
     "data": {
      "text/plain": [
       "0.5952030162016901"
      ]
     },
     "execution_count": 35,
     "metadata": {},
     "output_type": "execute_result"
    }
   ],
   "source": [
    "Notatt = 0.9920050270028169 * 0.6\n",
    "Notatt"
   ]
  },
  {
   "cell_type": "code",
   "execution_count": 36,
   "metadata": {},
   "outputs": [
    {
     "data": {
      "text/plain": [
       "0.18814934081726598"
      ]
     },
     "execution_count": 36,
     "metadata": {},
     "output_type": "execute_result"
    }
   ],
   "source": [
    "#info_gain = total entropy - entropy of attened and not attened\n",
    "info_gain = T - (Att + Notatt)\n",
    "info_gain"
   ]
  },
  {
   "cell_type": "markdown",
   "metadata": {},
   "source": [
    "information gain after split of data  is 0.18814934081726598"
   ]
  },
  {
   "cell_type": "code",
   "execution_count": null,
   "metadata": {},
   "outputs": [],
   "source": [
    "https://www.python-course.eu/Decision_Trees.php\n",
    "https://www.analyticsvidhya.com/blog/2020/11/entropy-a-key-concept-for-all-data-science-beginners/"
   ]
  }
 ],
 "metadata": {
  "kernelspec": {
   "display_name": "Python 3",
   "language": "python",
   "name": "python3"
  },
  "language_info": {
   "codemirror_mode": {
    "name": "ipython",
    "version": 3
   },
   "file_extension": ".py",
   "mimetype": "text/x-python",
   "name": "python",
   "nbconvert_exporter": "python",
   "pygments_lexer": "ipython3",
   "version": "3.7.4"
  }
 },
 "nbformat": 4,
 "nbformat_minor": 2
}
